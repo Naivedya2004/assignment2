{
 "cells": [
  {
   "cell_type": "code",
   "execution_count": 3,
   "id": "c4f4f0c4-0c6e-4d18-99dc-416e212de592",
   "metadata": {},
   "outputs": [],
   "source": [
    "s = \"\\'\"\n",
    "\n"
   ]
  },
  {
   "cell_type": "code",
   "execution_count": 4,
   "id": "66e37f26-cd48-44ef-bf1d-f430496be047",
   "metadata": {},
   "outputs": [
    {
     "data": {
      "text/plain": [
       "\"'\""
      ]
     },
     "execution_count": 4,
     "metadata": {},
     "output_type": "execute_result"
    }
   ],
   "source": [
    "s"
   ]
  },
  {
   "cell_type": "code",
   "execution_count": 5,
   "id": "2a3b69e3-f99c-4c95-bd53-18884b1335b7",
   "metadata": {},
   "outputs": [],
   "source": [
    "x ='a'\n"
   ]
  },
  {
   "cell_type": "code",
   "execution_count": 6,
   "id": "f488773a-fb67-47ee-b657-0cc3e279916c",
   "metadata": {},
   "outputs": [
    {
     "data": {
      "text/plain": [
       "str"
      ]
     },
     "execution_count": 6,
     "metadata": {},
     "output_type": "execute_result"
    }
   ],
   "source": [
    "type(x)"
   ]
  },
  {
   "cell_type": "code",
   "execution_count": 8,
   "id": "a448417a-bc0a-48ef-b4d0-70f3b4a8848d",
   "metadata": {},
   "outputs": [
    {
     "ename": "SyntaxError",
     "evalue": "invalid syntax (618837402.py, line 1)",
     "output_type": "error",
     "traceback": [
      "\u001b[0;36m  Cell \u001b[0;32mIn[8], line 1\u001b[0;36m\u001b[0m\n\u001b[0;31m    //Python does not have a character data type, a single character is simply a string with a length of 1.\u001b[0m\n\u001b[0m    ^\u001b[0m\n\u001b[0;31mSyntaxError\u001b[0m\u001b[0;31m:\u001b[0m invalid syntax\n"
     ]
    }
   ],
   "source": [
    "//Python does not have a character data type, a single character is simply a string with a length of 1.\n"
   ]
  },
  {
   "cell_type": "code",
   "execution_count": 9,
   "id": "adbae78d-63fd-420f-b3b8-fe1a9f571eca",
   "metadata": {},
   "outputs": [],
   "source": [
    "z='Naivedya'"
   ]
  },
  {
   "cell_type": "code",
   "execution_count": 11,
   "id": "b037bf31-7028-4022-8396-1a2ad24b976f",
   "metadata": {},
   "outputs": [
    {
     "data": {
      "text/plain": [
       "4"
      ]
     },
     "execution_count": 11,
     "metadata": {},
     "output_type": "execute_result"
    }
   ],
   "source": [
    "z.find('e')\n"
   ]
  },
  {
   "cell_type": "code",
   "execution_count": 12,
   "id": "fb9ebc69-4279-4115-8017-1d5974de25a6",
   "metadata": {},
   "outputs": [
    {
     "data": {
      "text/plain": [
       "1"
      ]
     },
     "execution_count": 12,
     "metadata": {},
     "output_type": "execute_result"
    }
   ],
   "source": [
    "z.count('i')"
   ]
  },
  {
   "cell_type": "code",
   "execution_count": 13,
   "id": "988e0ade-aa31-4c46-8d1b-22ea203df5ee",
   "metadata": {},
   "outputs": [
    {
     "data": {
      "text/plain": [
       "8"
      ]
     },
     "execution_count": 13,
     "metadata": {},
     "output_type": "execute_result"
    }
   ],
   "source": [
    "len(z)"
   ]
  },
  {
   "cell_type": "code",
   "execution_count": 14,
   "id": "c1eb7e76-410d-48c3-8e7e-597ae0494e4a",
   "metadata": {},
   "outputs": [],
   "source": [
    "b= \"i am \"\n"
   ]
  },
  {
   "cell_type": "code",
   "execution_count": 15,
   "id": "6803fdfd-e99d-411e-a241-1e229a7af9a8",
   "metadata": {},
   "outputs": [],
   "source": [
    "c=\" awesome\"\n"
   ]
  },
  {
   "cell_type": "code",
   "execution_count": 16,
   "id": "896c79a0-5991-466f-93ec-77128193d193",
   "metadata": {},
   "outputs": [],
   "source": [
    "y=b+c"
   ]
  },
  {
   "cell_type": "code",
   "execution_count": 21,
   "id": "75a80ed3-ec31-4146-9db1-916054689e65",
   "metadata": {},
   "outputs": [
    {
     "ename": "SyntaxError",
     "evalue": "invalid syntax (1480115942.py, line 1)",
     "output_type": "error",
     "traceback": [
      "\u001b[0;36m  Cell \u001b[0;32mIn[21], line 1\u001b[0;36m\u001b[0m\n\u001b[0;31m    the upper code is concatenation\u001b[0m\n\u001b[0m        ^\u001b[0m\n\u001b[0;31mSyntaxError\u001b[0m\u001b[0;31m:\u001b[0m invalid syntax\n"
     ]
    }
   ],
   "source": [
    "the upper code is concatenation\n"
   ]
  },
  {
   "cell_type": "code",
   "execution_count": 23,
   "id": "34dcbf69-7dd6-45a0-bc7a-eaca5db9a317",
   "metadata": {},
   "outputs": [],
   "source": [
    "word= 'PanaJi@12256'"
   ]
  },
  {
   "cell_type": "code",
   "execution_count": 39,
   "id": "228cf057-e2ad-4ece-9e72-ac76b4b8a5ed",
   "metadata": {},
   "outputs": [
    {
     "data": {
      "text/plain": [
       "4"
      ]
     },
     "execution_count": 39,
     "metadata": {},
     "output_type": "execute_result"
    }
   ],
   "source": [
    "4"
   ]
  },
  {
   "cell_type": "code",
   "execution_count": 40,
   "id": "34fa97cc-b2c4-41d9-9891-6cf1929bf1e1",
   "metadata": {},
   "outputs": [
    {
     "data": {
      "text/plain": [
       "2"
      ]
     },
     "execution_count": 40,
     "metadata": {},
     "output_type": "execute_result"
    }
   ],
   "source": [
    "2"
   ]
  },
  {
   "cell_type": "code",
   "execution_count": 41,
   "id": "77919fdb-d908-4353-ac86-f4cc825dbdf4",
   "metadata": {},
   "outputs": [
    {
     "data": {
      "text/plain": [
       "5"
      ]
     },
     "execution_count": 41,
     "metadata": {},
     "output_type": "execute_result"
    }
   ],
   "source": [
    "5"
   ]
  },
  {
   "cell_type": "code",
   "execution_count": 42,
   "id": "6901da5a-2739-42ad-8574-e53669d82bea",
   "metadata": {},
   "outputs": [],
   "source": [
    "num=10\n"
   ]
  },
  {
   "cell_type": "code",
   "execution_count": 43,
   "id": "459327e3-1f86-4ee3-9b23-6cc47102dbce",
   "metadata": {},
   "outputs": [
    {
     "data": {
      "text/plain": [
       "'10'"
      ]
     },
     "execution_count": 43,
     "metadata": {},
     "output_type": "execute_result"
    }
   ],
   "source": [
    "str(num)"
   ]
  },
  {
   "cell_type": "code",
   "execution_count": null,
   "id": "c175ac8a-4b6f-4816-a7ec-ec7d7e7c1108",
   "metadata": {},
   "outputs": [],
   "source": []
  }
 ],
 "metadata": {
  "kernelspec": {
   "display_name": "Python 3 (ipykernel)",
   "language": "python",
   "name": "python3"
  },
  "language_info": {
   "codemirror_mode": {
    "name": "ipython",
    "version": 3
   },
   "file_extension": ".py",
   "mimetype": "text/x-python",
   "name": "python",
   "nbconvert_exporter": "python",
   "pygments_lexer": "ipython3",
   "version": "3.10.8"
  }
 },
 "nbformat": 4,
 "nbformat_minor": 5
}
